{
  "nbformat": 4,
  "nbformat_minor": 0,
  "metadata": {
    "colab": {
      "provenance": []
    },
    "kernelspec": {
      "name": "python3",
      "display_name": "Python 3"
    },
    "language_info": {
      "name": "python"
    }
  },
  "cells": [
    {
      "cell_type": "code",
      "execution_count": null,
      "metadata": {
        "id": "HtMnTenEecNK"
      },
      "outputs": [],
      "source": []
    },
    {
      "cell_type": "markdown",
      "source": [
        "Assignment: Create a movie rating log using oops concept. class for rating a movie. Use attributes like movie name, Story Rating, Actor Rating, Music Rating and overall average rating."
      ],
      "metadata": {
        "id": "ArqOKpio1h9N"
      }
    },
    {
      "cell_type": "code",
      "source": [
        "#First define class\n",
        "class MovieRating:\n",
        "  def __init__(self, movie_name, story, actors, music, cinematography):\n",
        "   self.movie_name = movie_name\n",
        "   self.story = max(0, min(story, 10)) #Using max and min functions to make sure that rating are between 0 to 10\n",
        "   self.actors = max(0, min(actors, 10))\n",
        "   self.music = max(0, min(music, 10))\n",
        "   self.cinematography = max(0, min(cinematography, 10))\n",
        "   self.music = music\n",
        "   self.cinematography = cinematography\n",
        "   self.overall_rating = (story + actors + music + cinematography) / 4 #Here we are rating movie based on 4 perameters (story,actors etc) so we are dividing total score by 4.\n",
        "\n",
        "#now create method/process to understand which movie is good, excellent or poor\n",
        "  def verdict(self):\n",
        "    if self.overall_rating >= 8:\n",
        "      return (f\"{self.movie_name} is Excellent\")\n",
        "    elif self.overall_rating >= 6:\n",
        "      return (f\"{self.movie_name} is Good\")\n",
        "    elif self.overall_rating >= 4:\n",
        "      return (f\"{self.movie_name} is Average\")\n",
        "    else:\n",
        "      return (f\"{self.movie_name} is Poor\")\n",
        "\n",
        "#now create objects to use\n",
        "movie1 = MovieRating(\"Interstellar\", 9, 10, 10, 9)\n",
        "print(movie1.verdict())\n",
        "print(movie1.overall_rating)\n",
        "\n",
        "movie2 = MovieRating(\"Megan\", 7,4,4,7)\n",
        "print(movie2.verdict())\n",
        "print(movie2.overall_rating)\n",
        "\n",
        "movie3 = MovieRating(\"Smile\", 4,3,3,4)\n",
        "print(movie3.verdict())\n",
        "print(movie3.overall_rating)\n",
        "\n",
        "movie4 = MovieRating(\"Dunes\", 8,7,7,8)\n",
        "print(movie4.verdict())\n",
        "print(movie4.overall_rating)\n"
      ],
      "metadata": {
        "colab": {
          "base_uri": "https://localhost:8080/"
        },
        "id": "4HAnO1HdaTpr",
        "outputId": "f057c6b1-23c9-4df8-b0ad-a76e8971045a"
      },
      "execution_count": 22,
      "outputs": [
        {
          "output_type": "stream",
          "name": "stdout",
          "text": [
            "Interstellar is Excellent\n",
            "9.5\n",
            "Megan is Average\n",
            "5.5\n",
            "Smile is Poor\n",
            "3.5\n",
            "Dunes is Good\n",
            "7.5\n"
          ]
        }
      ]
    }
  ]
}